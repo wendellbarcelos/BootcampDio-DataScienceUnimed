{
 "cells": [
  {
   "cell_type": "markdown",
   "id": "35176fad",
   "metadata": {},
   "source": [
    "SQL - Structured Query Language"
   ]
  },
  {
   "cell_type": "markdown",
   "id": "cf9c0b40",
   "metadata": {},
   "source": [
    "- DDL – Data Definition Language - Create, Drop, Alter    \n",
    "- DML – Data Manipulation Language -  Insert, Update, Delete, Merge\n",
    "- DCL – Data Control Language - Grant, Revoke\n",
    "- DQL – Data Query Language - Select"
   ]
  },
  {
   "cell_type": "code",
   "execution_count": 12,
   "id": "cfde123e",
   "metadata": {},
   "outputs": [],
   "source": [
    "# Importando as bibliotecas\n",
    "import mysql.connector\n",
    "from mysql.connector import errorcode\n",
    "from mysql.connector import (connection)\n",
    "from datetime import datetime"
   ]
  },
  {
   "cell_type": "code",
   "execution_count": 7,
   "id": "e0109c35",
   "metadata": {},
   "outputs": [],
   "source": [
    "# Criando conexão com o banco de dados\n",
    "conn = connection.MySQLConnection(host='127.0.0.1', user='root', password='94563381', database='first_example')\n",
    "cur = conn.cursor()"
   ]
  },
  {
   "cell_type": "code",
   "execution_count": 25,
   "id": "3042b274",
   "metadata": {},
   "outputs": [],
   "source": [
    "# Criando funções \n",
    "def inserir(lista):\n",
    "    sql = 'INSERT INTO person VALUES (?,?,?,?,?,?,?,?,?,?)'\n",
    "    cur.execute(sql, lista)\n",
    "    conn.commit()\n",
    "\n",
    "def imprimir():\n",
    "    cur.execute('SELECT * FROM person')\n",
    "    for row in cur.fetchall():\n",
    "        print(row)"
   ]
  },
  {
   "cell_type": "code",
   "execution_count": 21,
   "id": "9f08d121",
   "metadata": {},
   "outputs": [],
   "source": [
    "lista = [6, 'João', 'Augusto', 'M', '1968-12-05', 'Rua B 894', 'São Paulo', 'SP', 'Brazil', '84215662']"
   ]
  },
  {
   "cell_type": "code",
   "execution_count": 26,
   "id": "02e22049",
   "metadata": {},
   "outputs": [
    {
     "ename": "ProgrammingError",
     "evalue": "Not all parameters were used in the SQL statement",
     "output_type": "error",
     "traceback": [
      "\u001b[1;31m---------------------------------------------------------------------------\u001b[0m",
      "\u001b[1;31mProgrammingError\u001b[0m                          Traceback (most recent call last)",
      "\u001b[1;32m<ipython-input-26-6dd01d8d7d36>\u001b[0m in \u001b[0;36m<module>\u001b[1;34m\u001b[0m\n\u001b[1;32m----> 1\u001b[1;33m \u001b[0minserir\u001b[0m\u001b[1;33m(\u001b[0m\u001b[0mlista\u001b[0m\u001b[1;33m)\u001b[0m\u001b[1;33m\u001b[0m\u001b[1;33m\u001b[0m\u001b[0m\n\u001b[0m",
      "\u001b[1;32m<ipython-input-25-27ee4716cb71>\u001b[0m in \u001b[0;36minserir\u001b[1;34m(lista)\u001b[0m\n\u001b[0;32m      2\u001b[0m \u001b[1;32mdef\u001b[0m \u001b[0minserir\u001b[0m\u001b[1;33m(\u001b[0m\u001b[0mlista\u001b[0m\u001b[1;33m)\u001b[0m\u001b[1;33m:\u001b[0m\u001b[1;33m\u001b[0m\u001b[1;33m\u001b[0m\u001b[0m\n\u001b[0;32m      3\u001b[0m     \u001b[0msql\u001b[0m \u001b[1;33m=\u001b[0m \u001b[1;34m'INSERT INTO person VALUES (?,?,?,?,?,?,?,?,?,?)'\u001b[0m\u001b[1;33m\u001b[0m\u001b[1;33m\u001b[0m\u001b[0m\n\u001b[1;32m----> 4\u001b[1;33m     \u001b[0mcur\u001b[0m\u001b[1;33m.\u001b[0m\u001b[0mexecute\u001b[0m\u001b[1;33m(\u001b[0m\u001b[0msql\u001b[0m\u001b[1;33m,\u001b[0m \u001b[0mlista\u001b[0m\u001b[1;33m)\u001b[0m\u001b[1;33m\u001b[0m\u001b[1;33m\u001b[0m\u001b[0m\n\u001b[0m\u001b[0;32m      5\u001b[0m     \u001b[0mconn\u001b[0m\u001b[1;33m.\u001b[0m\u001b[0mcommit\u001b[0m\u001b[1;33m(\u001b[0m\u001b[1;33m)\u001b[0m\u001b[1;33m\u001b[0m\u001b[1;33m\u001b[0m\u001b[0m\n\u001b[0;32m      6\u001b[0m \u001b[1;33m\u001b[0m\u001b[0m\n",
      "\u001b[1;32m~\\anaconda3\\lib\\site-packages\\mysql\\connector\\cursor.py\u001b[0m in \u001b[0;36mexecute\u001b[1;34m(self, operation, params, multi)\u001b[0m\n\u001b[0;32m    547\u001b[0m                 \u001b[0mstmt\u001b[0m \u001b[1;33m=\u001b[0m \u001b[0mRE_PY_PARAM\u001b[0m\u001b[1;33m.\u001b[0m\u001b[0msub\u001b[0m\u001b[1;33m(\u001b[0m\u001b[0mpsub\u001b[0m\u001b[1;33m,\u001b[0m \u001b[0mstmt\u001b[0m\u001b[1;33m)\u001b[0m\u001b[1;33m\u001b[0m\u001b[1;33m\u001b[0m\u001b[0m\n\u001b[0;32m    548\u001b[0m                 \u001b[1;32mif\u001b[0m \u001b[0mpsub\u001b[0m\u001b[1;33m.\u001b[0m\u001b[0mremaining\u001b[0m \u001b[1;33m!=\u001b[0m \u001b[1;36m0\u001b[0m\u001b[1;33m:\u001b[0m\u001b[1;33m\u001b[0m\u001b[1;33m\u001b[0m\u001b[0m\n\u001b[1;32m--> 549\u001b[1;33m                     raise ProgrammingError(\n\u001b[0m\u001b[0;32m    550\u001b[0m                         \u001b[1;34m\"Not all parameters were used in the SQL statement\"\u001b[0m\u001b[1;33m\u001b[0m\u001b[1;33m\u001b[0m\u001b[0m\n\u001b[0;32m    551\u001b[0m                     )\n",
      "\u001b[1;31mProgrammingError\u001b[0m: Not all parameters were used in the SQL statement"
     ]
    }
   ],
   "source": [
    "inserir(lista)"
   ]
  },
  {
   "cell_type": "code",
   "execution_count": 18,
   "id": "4e2b75d0",
   "metadata": {},
   "outputs": [
    {
     "name": "stdout",
     "output_type": "stream",
     "text": [
      "(0, 'Wendell', 'Barcelos', 'M', datetime.date(1991, 11, 30), 'Rua da Usina 159', 'Rio de Janeiro', 'RJ', 'Brazil', '21815180')\n",
      "(1, 'Lidia', 'Chacon', 'F', datetime.date(1990, 11, 20), 'Rua da Usina 159', 'Rio de Janeiro', 'RJ', 'Brazil', '21815180')\n",
      "(2, 'Syndell', 'Barcelos', 'F', datetime.date(2003, 11, 27), 'Rua da Usina 159', 'Rio de Janeiro', 'RJ', 'Brazil', '21815180')\n",
      "(3, 'Leonardo', 'Nascimento', 'M', datetime.date(1995, 9, 20), 'Rua Abaeté 628', 'Rio de Janeiro', 'RJ', 'Brazil', '21815180')\n",
      "(4, 'Vicente', 'Izel', 'M', datetime.date(1992, 10, 29), 'Rua Cabral', 'Brasilia', 'BR', 'Brazil', '29554166')\n",
      "(5, 'João', 'Augusto', 'M', datetime.date(1968, 12, 5), 'Rua B 894', 'São Paulo', 'SP', 'Brazil', '84215662')\n"
     ]
    }
   ],
   "source": [
    "imprimir()"
   ]
  },
  {
   "cell_type": "code",
   "execution_count": null,
   "id": "b0dc9bfd",
   "metadata": {},
   "outputs": [],
   "source": []
  }
 ],
 "metadata": {
  "kernelspec": {
   "display_name": "Python 3 (ipykernel)",
   "language": "python",
   "name": "python3"
  },
  "language_info": {
   "codemirror_mode": {
    "name": "ipython",
    "version": 3
   },
   "file_extension": ".py",
   "mimetype": "text/x-python",
   "name": "python",
   "nbconvert_exporter": "python",
   "pygments_lexer": "ipython3",
   "version": "3.9.7"
  }
 },
 "nbformat": 4,
 "nbformat_minor": 5
}
